{
 "cells": [
  {
   "cell_type": "markdown",
   "metadata": {},
   "source": [
    "### [Databases and Tables](https://webdev.slides.com/coltsteele/getting-started-with-mysql/fullscreen)"
   ]
  },
  {
   "cell_type": "markdown",
   "metadata": {},
   "source": [
    "#### <span style=\"color:hotpink\">Getting Started</span>\n",
    "\n",
    "To find out what version of MySQL you are running: `mysql --version`\n",
    "\n",
    "To open MySQL in the terminal: `mysql -u root -p`\n",
    "\n",
    "To look at what databases currently exist: `show databases;`\n",
    "\n",
    ">Note: We can also access our database through the MySql Workbench that we installed in our applications folder."
   ]
  },
  {
   "cell_type": "markdown",
   "metadata": {},
   "source": [
    "#### <span style=\"color:hotpink\">Databases</span>\n",
    "\n",
    "To create a database: `CREATE DATABASE <name>;`\n",
    "\n",
    "To delete a database: `DROP DATABASE <name>;`\n",
    "\n",
    "To select a database you want to work on: `USE <database name>;`\n",
    "\n",
    "To look inside current database: `SELECT database();`"
   ]
  },
  {
   "cell_type": "markdown",
   "metadata": {},
   "source": [
    "#### <span style=\"color:hotpink\">Data Types</span>\n",
    "\n",
    "<img src=\"./images/data-types.png\" alt=\"list of different data types\" height=\"300\">\n",
    "\n",
    "\\\n",
    "<span style=\"color:pink\">Commonly Used Data Types</span>\n",
    "\n",
    "`INT` - Whole number with max signed value of 2147483647 (+/-)\n",
    "\n",
    "`VARCHAR` - Variable-length string"
   ]
  },
  {
   "cell_type": "markdown",
   "metadata": {},
   "source": [
    "#### <span style=\"color:hotpink\">Tables</span>\n",
    "\n",
    "```sql\n",
    "CREATE TABLE tablename\n",
    "    (\n",
    "        column_name data_type,\n",
    "        column_name data_type\n",
    "    );\n",
    "```"
   ]
  },
  {
   "cell_type": "markdown",
   "metadata": {},
   "source": [
    "#### <span style=\"color:hotpink\">Let's go through the process of creating a database...</span>\n",
    "\n",
    "```sql\n",
    "mysql -u root -p  -- enter root password\n",
    "\n",
    "CREATE DATABASE pet_shop;\n",
    "\n",
    "USE pet_shop;\n",
    "\n",
    "CREATE TABLE cats(\n",
    "    name VARCHAR(50),\n",
    "    age INT\n",
    ");\n",
    "\n",
    "CREATE TABLE dogs(\n",
    "    name VARCHAR(50),\n",
    "    breed VARCHAR(50),\n",
    "    age INT\n",
    ");\n",
    "\n",
    "SHOW TABLES; -- shows the tables in the database 'pet_shop'\n",
    "\n",
    "SHOW COLUMNS FROM cats; -- shows columns from 'cats' table\n",
    "\n",
    "DESC cats; -- same output as above\n",
    "\n",
    "DROP TABLE cats; -- to drop 'cats' table\n",
    "```"
   ]
  }
 ],
 "metadata": {
  "language_info": {
   "name": "python"
  }
 },
 "nbformat": 4,
 "nbformat_minor": 2
}
