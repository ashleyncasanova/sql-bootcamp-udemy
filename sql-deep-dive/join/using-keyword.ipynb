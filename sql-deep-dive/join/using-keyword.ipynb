{
 "cells": [
  {
   "cell_type": "markdown",
   "metadata": {},
   "source": [
    "___\n",
    "### **<span style=\"color:red\">USING KEYWORD</span>**\n",
    "\n",
    "* SIMPLIFYING JOINING SYNTAX\n",
    "* USED TO MATCH PRIMARY AND FOREIGN KEY RELATIONSHIPS\n",
    "\n",
    "\\\n",
    "<span style=\"color:red\">JOIN SYNTAX</span>\n",
    "\n",
    "```sql\n",
    "SELECT *\n",
    "FROM <table A> as a\n",
    "INNER JOIN <table B> as b\n",
    "ON a.id = b.id\n",
    "ORDER BY a.id;\n",
    "```\n",
    "\n",
    "\\\n",
    "<span style=\"color:red\">USING KEYWORD</span>\n",
    "\n",
    "```sql\n",
    "SELECT *\n",
    "FROM <table A> as a\n",
    "INNER JOIN <table B> as b\n",
    "USING(id)\n",
    "ORDER BY a.id;\n",
    "```\n",
    "___"
   ]
  }
 ],
 "metadata": {
  "language_info": {
   "name": "python"
  }
 },
 "nbformat": 4,
 "nbformat_minor": 2
}
