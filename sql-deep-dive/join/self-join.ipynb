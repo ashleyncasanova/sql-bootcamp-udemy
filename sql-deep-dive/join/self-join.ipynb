{
 "cells": [
  {
   "cell_type": "markdown",
   "metadata": {},
   "source": [
    "### **<span style=\"color:crimson\">SELF `JOIN`<span>**\n",
    "* Joining a table to itself.\n",
    "* Usually when a table has a foreign key referencing its primary key.\n",
    "___"
   ]
  },
  {
   "cell_type": "markdown",
   "metadata": {},
   "source": [
    "#### **<span style=\"color:darkorange\">SELF `JOIN`: LINKING A TABLE TO ITSELF</span>**\n",
    "\n",
    "| id  | name           | start_date               | supervisorid |\n",
    "| --- | -------------- | ------------------------ | ------------ |\n",
    "| 1   | Boss Man       | 1980-01-23T00:00:00.000Z | 1            |\n",
    "| 2   | Andrei Neagoie | 1980-01-23T00:00:00.000Z | 1            |\n",
    "| 3   | Mo Binni       | 1990-01-13T00:00:00.000Z | 2            |\n",
    "\n",
    ">Note: Andre is Mo's supervisor, but he is also his own supervisor.\n",
    "\n",
    "\\\n",
    "**<span style=\"color:mediumseagreen\">What if we want to see the supervisors name rather than his id?</span>**\n",
    "\n",
    "```sql\n",
    "SELECT a.id, a.name as \"employee,\", b.name as \"supervisor name\"\n",
    "FROM employee as a, employee as b -- select from the same table twice\n",
    "WHERE a.supervisorId = b.id;\n",
    "```\n",
    ">Note: No special syntax for self join. Same as multi table select (inner join).\n",
    "\n",
    "| id  | employee       | supervisor name |\n",
    "| --- | -------------- | --------------- |\n",
    "| 1   | Boss Man       | Boss Man        |\n",
    "| 2   | Andrei Neagoie | Boss Man        |\n",
    "| 3   | Mo Binni       | Andrei Neagoie  |\n",
    "\n",
    "\\\n",
    "**<span style=\"color:mediumseagreen\">Self join is the same thing as an inner join, except that the primary and foreign keys are in the same table.</span>**\n",
    "\n",
    "```sql\n",
    "SELECT a.id, a.name as \"employee\", b.name as \"supervisor name\"\n",
    "FROM employee as a\n",
    "INNER JOIN employee as b\n",
    "ON a.supervisorId = b.id;\n",
    "```\n",
    "\n",
    "| id  | employee       | supervisor name |\n",
    "| --- | -------------- | --------------- |\n",
    "| 1   | Boss Man       | Boss Man        |\n",
    "| 2   | Andrei Neagoie | Boss Man        |\n",
    "| 3   | Mo Binni       | Andrei Neagoie  |\n",
    "\n",
    "[View on DB Fiddle](https://www.db-fiddle.com/f/rG38ZB1tgWWFgfXJ1Xzw5V/2)\n",
    "___"
   ]
  }
 ],
 "metadata": {
  "language_info": {
   "name": "python"
  }
 },
 "nbformat": 4,
 "nbformat_minor": 2
}
