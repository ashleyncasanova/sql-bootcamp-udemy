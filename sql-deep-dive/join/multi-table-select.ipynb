{
 "cells": [
  {
   "cell_type": "markdown",
   "metadata": {},
   "source": [
    "### **<span style=\"color:crimson\">MULTI TABLE `SELECT`</span>**\n",
    "___"
   ]
  },
  {
   "cell_type": "markdown",
   "metadata": {},
   "source": [
    "### **<span style=\"color:crimson\">Example Dataset</span>**\n",
    "\n",
    "**DATABASE: `Employees`**\n",
    "\n",
    "\\\n",
    "**TABLE A: `employees`**\n",
    "\n",
    "| emp_no | first_name | last_name |\n",
    "|--------|------------|-----------|\n",
    "| 1      | John       | Doe       |\n",
    "| 2      | Jane       | Smith     |\n",
    "\n",
    "\\\n",
    "**TABLE B: `salaries`**\n",
    "\n",
    "| emp_no | salary   | from_date  |\n",
    "|--------|----------|------------|\n",
    "| 1      | 50000    | 2023-01-01 |\n",
    "| 2      | 60000    | 2023-01-01 |\n",
    "\n",
    "\\\n",
    "**TABLE C: `titles`**\n",
    "\n",
    "| emp_no | title         | from_date  |\n",
    "|--------|---------------|------------|\n",
    "| 1      | Junior Engineer | 2023-01-01 |\n",
    "| 2      | Senior Engineer | 2023-01-01 |\n",
    "___"
   ]
  },
  {
   "cell_type": "markdown",
   "metadata": {},
   "source": [
    "#### **<span style=\"color:darkorange\">MULTI TABLE `SELECT`: WITHOUT A LINK</span>**\n",
    "\n",
    "```sql\n",
    "SELECT a.emp_no,\n",
    "       CONCAT(a.first_name, a.last_name) AS \"name\",\n",
    "       b.salary\n",
    "FROM employees AS a, salaries AS b\n",
    "ORDER BY a.emp_no; -- results always come back unsorted\n",
    "```\n",
    "\n",
    "\\\n",
    "<span style=\"color:mediumseagreen\">**Result:**</span>\n",
    "\n",
    "| emp_no | name      | salary |\n",
    "|--------|-----------|--------|\n",
    "| 1      | JohnDoe   | 50000  |\n",
    "| 1      | JohnDoe   | 60000  |\n",
    "| 2      | JaneSmith | 50000  |\n",
    "| 2      | JaneSmith | 60000  |\n",
    "\n",
    "<span style=\"color:mediumseagreen\">**Notes:**</span>\n",
    "\n",
    "Combines every row from \"employees\" with every row from \"salaries,\" creating a large result set with all possible combinations.\n",
    "\n",
    "><span style=\"color:hotpink\">**DO NOT RUN! NOT ENOUGH MEMORY!! WILL CRASH COMPUTER!!!**</span>\n",
    "___"
   ]
  },
  {
   "cell_type": "markdown",
   "metadata": {},
   "source": [
    "#### **<span style=\"color:darkorange\">MULTI TABLE `SELECT`: WITH A LINK (INNER JOIN)</span>**\n",
    "\n",
    "```sql\n",
    "SELECT a.emp_no,\n",
    "       CONCAT(a.first_name, a.last_name) AS \"name\",\n",
    "       b.salary\n",
    "FROM employees AS a, salaries AS b\n",
    "WHERE a.emp_no = b.emp_no\n",
    "ORDER BY a.emp_no;\n",
    "```\n",
    "\n",
    "\\\n",
    "<span style=\"color:mediumseagreen\">**Result:**</span>\n",
    "\n",
    "| emp_no | name      | salary |\n",
    "|--------|-----------|--------|\n",
    "| 1      | JohnDoe   | 50000  |\n",
    "| 2      | JaneSmith | 60000  |\n",
    "\n",
    "\\\n",
    "<span style=\"color:mediumseagreen\">**Notes:**</span>\n",
    "\n",
    "- TABLE A (`employees`) and TABLE B (`salaries`) are linked through a primary and a foreign key.\n",
    "- Primary key: `emp_no` in the `employees` table\n",
    "- Foreign key: `emp_no` in the `salaries` table\n",
    "___"
   ]
  }
 ],
 "metadata": {
  "language_info": {
   "name": "python"
  }
 },
 "nbformat": 4,
 "nbformat_minor": 2
}
