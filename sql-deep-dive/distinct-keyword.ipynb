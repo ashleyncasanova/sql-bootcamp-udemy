{
 "cells": [
  {
   "cell_type": "markdown",
   "metadata": {},
   "source": [
    "___\n",
    "### **<span style=\"color:red\">Distinct Keyword</span>**\n",
    "\n",
    "* REMOVES DUPLICATES\n",
    "* KEEPS ONE ROW FOR EACH GROUP OF DUPLICATES\n",
    "* MULTIPLE COLUMNS WILL EVALUATE BASED ON THE COMBINATION OF COLUMNS\n",
    "\n",
    "\\\n",
    "<span style=\"color:red\">SAMPLE QUERY</span>\n",
    "\n",
    "```sql\n",
    "SELECT \n",
    "    DISTINCT <col1>, <col2>\n",
    "FROM\n",
    "    <table> ;\n",
    "```\n",
    "___"
   ]
  },
  {
   "cell_type": "markdown",
   "metadata": {},
   "source": [
    "#### <span style=\"color:red\">Example:</span>\n",
    "\n",
    "DB: Employees\n",
    "\n",
    "\\\n",
    "Table: Salaries\n",
    "\n",
    "\\\n",
    "<span style=\"color:red\">Query: </span>\n",
    "\n",
    "```sql\n",
    "SELECT salary\n",
    "FROM salaries; -- returns all salaries from table\n",
    "\n",
    "-- SELECT COUNT(salary)\n",
    "-- FROM salaries; --> `2844047`\n",
    "```\n",
    "\n",
    "\\\n",
    "<span style=\"color:red\">Query: </span>\n",
    "\n",
    "```sql\n",
    "SELECT DISTINCT salary\n",
    "FROM salaries; -- returns only distinct salaries\n",
    "\n",
    "-- SELECT COUNT(DISTINCT salary)\n",
    "-- FROM salaries; --> `85814`\n",
    "```\n",
    "\n",
    "\\\n",
    "<span style=\"color:red\">Query: </span>\n",
    "\n",
    "```sql\n",
    "SELECT DISTINCT salary, from_date \n",
    "FROM salaries; -- returns data where salaries and from_date are unique\n",
    "\n",
    "-- SELECT COUNT(DISTINCT (salary, from_date))\n",
    "-- FROM salaries; --> `2844047`\n",
    "```\n",
    "\n",
    ">Note: We will have more duplicate data. It will only remove duplicates that match both the salary and the from_date.\n",
    "___"
   ]
  },
  {
   "cell_type": "markdown",
   "metadata": {},
   "source": [
    "___\n",
    "___\n",
    "#### <span style=\"color:lightgreen\">Exercise </span>\n",
    "___\n",
    "___"
   ]
  },
  {
   "cell_type": "markdown",
   "metadata": {},
   "source": [
    "<span style=\"color:lightgreen\">EXERCISE 1:</span>\n",
    "\n",
    "DB: Employees\n",
    "\n",
    "Table: titles\n",
    "\n",
    "Question: What unique titles do we have?\n",
    "\n",
    "```sql\n",
    "SELECT DISTINCT titles\n",
    "FROM titles;\n",
    "```\n",
    "___"
   ]
  },
  {
   "cell_type": "markdown",
   "metadata": {},
   "source": [
    "<span style=\"color:lightgreen\">EXERCISE 2:</span>\n",
    "\n",
    "DB: Employees\n",
    "\n",
    "Table: employees\n",
    "\n",
    "Question: How many unique birth dates are there?\n",
    "\n",
    "```sql\n",
    "SELECT COUNT(DISTINCT birth_date)\n",
    "FROM employees;\n",
    "```\n",
    "\n",
    "Returns: `4750`\n",
    "___"
   ]
  },
  {
   "cell_type": "markdown",
   "metadata": {},
   "source": [
    "<span style=\"color:lightgreen\">EXERCISE 3:</span>\n",
    "\n",
    "DB: World\n",
    "\n",
    "Table: country\n",
    "\n",
    "Question: Can I get a list of distinct life expectancy ages?\n",
    "\n",
    ">Note: Make sure there are no nulls.\n",
    "\n",
    "```sql\n",
    "SELECT DISTINCT lifeexpectancy FROM country\n",
    "WHERE lifeexpectancy IS NOT NULL\n",
    "ORDER BY lifeexpectancy;\n",
    "```\n",
    "___"
   ]
  }
 ],
 "metadata": {
  "language_info": {
   "name": "python"
  }
 },
 "nbformat": 4,
 "nbformat_minor": 2
}
