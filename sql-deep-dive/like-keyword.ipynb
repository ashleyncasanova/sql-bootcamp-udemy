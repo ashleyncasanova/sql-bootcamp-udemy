{
 "cells": [
  {
   "cell_type": "markdown",
   "metadata": {},
   "source": [
    "___\n",
    "### **<span style=\"color:red\">LIKE KEYWORD</span>**\n",
    "\n",
    "* PARTIAL LOOKUPS\n",
    "___"
   ]
  },
  {
   "cell_type": "markdown",
   "metadata": {},
   "source": [
    "#### **<span style=\"color:red\">WHAT IF YOU DON'T KNOW EXACTLY WHAT YOU ARE LOOKING FOR?</span>**\n",
    "\n",
    "#### <span style=\"color:red\">Example:</span>\n",
    "\n",
    "DB: Employees\n",
    "\n",
    "\\\n",
    "Table: Employees\n",
    "\n",
    "\\\n",
    "<span style=\"color:red\">Query: </span>\n",
    "\n",
    "```sql\n",
    "SELECT first_name\n",
    "FROM employees\n",
    "WHERE first_name LIKE 'M%' ;\n",
    "```\n",
    "\\\n",
    "Returns: Everyone's name that starts with 'M'."
   ]
  },
  {
   "cell_type": "markdown",
   "metadata": {},
   "source": [
    "#### **<span style=\"color:red\">IN ORDER TO USE LIKE, YOU NEED TO BUILD PATTERNS TO MATCH!</span>**\n",
    "\n",
    "PATTERN MATCHING\n",
    "\n",
    "|PATTERN WILD CARDS|MEANING|\n",
    "|:---:|:---:|\n",
    "|%|ANY NUMBER OF CHARACTERS|\n",
    "|_|1 CHARACTER|"
   ]
  },
  {
   "cell_type": "markdown",
   "metadata": {},
   "source": [
    "___\n",
    "___\n",
    "#### <span style=\"color:lightgreen\">Exercise </span>\n",
    "___\n",
    "___"
   ]
  },
  {
   "cell_type": "markdown",
   "metadata": {},
   "source": [
    "<span style=\"color:lightgreen\">EXERCISE 1:</span>\n",
    "\n",
    "DB: \n",
    "\n",
    "Table: \n",
    "\n",
    "Question: \n",
    "\n",
    "```sql\n",
    "SELECT \n",
    "FROM \n",
    "WHERE ;\n",
    "```\n",
    "\n",
    "Returns: \n",
    "___"
   ]
  }
 ],
 "metadata": {
  "language_info": {
   "name": "python"
  }
 },
 "nbformat": 4,
 "nbformat_minor": 2
}
