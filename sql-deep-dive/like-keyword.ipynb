{
 "cells": [
  {
   "cell_type": "markdown",
   "metadata": {},
   "source": [
    "___\n",
    "### **<span style=\"color:red\">LIKE KEYWORD</span>**\n",
    "\n",
    "* PARTIAL LOOKUPS\n",
    "___"
   ]
  },
  {
   "cell_type": "markdown",
   "metadata": {},
   "source": [
    "#### **<span style=\"color:red\">WHAT IF YOU DON'T KNOW EXACTLY WHAT YOU ARE LOOKING FOR?</span>**\n",
    "\n",
    "#### <span style=\"color:red\">Example:</span>\n",
    "\n",
    "DB: Employees\n",
    "\n",
    "\\\n",
    "Table: Employees\n",
    "\n",
    "\\\n",
    "<span style=\"color:red\">Query: </span>\n",
    "\n",
    "```sql\n",
    "SELECT first_name\n",
    "FROM employees\n",
    "WHERE first_name LIKE 'M%' ;\n",
    "```\n",
    "\\\n",
    "Returns: Everyone's name that starts with 'M'."
   ]
  },
  {
   "cell_type": "markdown",
   "metadata": {},
   "source": [
    "#### **<span style=\"color:red\">IN ORDER TO USE LIKE, YOU NEED TO BUILD PATTERNS TO MATCH!</span>**\n",
    "\n",
    "PATTERN MATCHING\n",
    "\n",
    "|PATTERN WILD CARDS|MEANING|\n",
    "|:---:|:---:|\n",
    "|%|ANY NUMBER OF CHARACTERS|\n",
    "|_|1 CHARACTER|"
   ]
  },
  {
   "cell_type": "markdown",
   "metadata": {},
   "source": [
    "**<span style=\"color:red\">EXAMPLES:</span>**\n",
    "\n",
    "PATTERN MATCHING\n",
    "\n",
    "|USE CASES|MEANING|\n",
    "|:---:|:---:|\n",
    "|LIKE '%2'|FIELDS THAT END WITH 2|\n",
    "|LIKE '%2%'|FIELDS THAT HAVE 2 ANYWHERE IN THE VALUE|\n",
    "|LIKE '_00%'|FIELDS THAT HAVE 2 ZERO'S AS THE SECOND AND THIRD CHARACTER AND ANYTHING AFTER|\n",
    "|LIKE '%200%'|FIELDS THAT HAVE 200 ANYWHERE IN THE VALUE|\n",
    "|LIKE '2_%_%'|FINDS ANY VALUES THAT START WITH 2 AND ARE AT LEAST 3 CHARACTERS IN LENGTH|\n",
    "|LIKE '2___3'|FINDS ANY VALUES IN A FIVE-DIGIT NUMBER THAT START WITH 2 AND END WITH 3|"
   ]
  },
  {
   "cell_type": "markdown",
   "metadata": {},
   "source": [
    "#### **<span style=\"color:red\">POSTGRES LIKE ONLY DOES TEXT COMPARISON, SO WE HAVE TO CAST WHATEVER WE USE TO TEXT.</span>**\n",
    "\n",
    "**<span style=\"color:red\">OPTION 1:</span>**\n",
    "\n",
    "```sql\n",
    "CAST(salary AS text);\n",
    "```\n",
    "\n",
    "\\\n",
    "**<span style=\"color:red\">OPTION 2:</span>**\n",
    "\n",
    "```sql\n",
    "salary::text\n",
    "```"
   ]
  },
  {
   "cell_type": "markdown",
   "metadata": {},
   "source": [
    "___\n",
    "### **<span style=\"color:aqua\">ILIKE KEYWORD</span>**\n",
    "\n",
    "* CASE INSENSITIVE MATCHING\n",
    "___"
   ]
  },
  {
   "cell_type": "markdown",
   "metadata": {},
   "source": [
    "___\n",
    "___\n",
    "#### <span style=\"color:fuchsia\">Examples:</span>\n",
    "___\n",
    "___"
   ]
  },
  {
   "cell_type": "markdown",
   "metadata": {},
   "source": [
    "<span style=\"color:fuchsia\">1. Find users who's first name starts with the letter 'G'.</span>\n",
    "\n",
    "DB: Employees\n",
    "\n",
    "Table: Employees\n",
    "\n",
    "\\\n",
    "Query: \n",
    "\n",
    "```sql\n",
    "SELECT *\n",
    "FROM employees\n",
    "WHERE first_name LIKE 'G%';\n",
    "```\n",
    "___"
   ]
  },
  {
   "cell_type": "markdown",
   "metadata": {},
   "source": [
    "<span style=\"color:fuchsia\">2. Find users who's first name starts with the letter 'G' and ends with the letter 'r'.</span>\n",
    "\n",
    "DB: Employees\n",
    "\n",
    "Table: Employees\n",
    "\n",
    "\\\n",
    "Query: \n",
    "\n",
    "```sql\n",
    "SELECT *\n",
    "FROM employees\n",
    "WHERE first_name LIKE 'G%r';\n",
    "```\n",
    "___"
   ]
  },
  {
   "cell_type": "markdown",
   "metadata": {},
   "source": [
    "___\n",
    "___\n",
    "#### <span style=\"color:lightgreen\">Exercise Like Keyword</span>\n",
    "___\n",
    "___"
   ]
  },
  {
   "cell_type": "markdown",
   "metadata": {},
   "source": [
    "<span style=\"color:lightgreen\">EXERCISE 1:</span>\n",
    "\n",
    "DB: Employees\n",
    "\n",
    "Table: employees\n",
    "\n",
    "Question: Find the age of all employees who's name starts with M.\n",
    "\n",
    "[Sample output](https://imgur.com/vXs4093):\n",
    "\n",
    "<img src=\"https://i.imgur.com/vXs4093.png\" alt=\"sample output\" height=\"200\">\n",
    "\n",
    ">Note: Use `EXTRACT (YEAR FROM AGE(birth_date))` we will learn about this in later parts of the course.\n",
    "\n",
    "\\\n",
    "<span style=\"color:lightgreen\">ANSWER:</span>\n",
    "\n",
    "```sql\n",
    "SELECT emp_no, first_name, EXTRACT (YEAR FROM AGE(birth_date)) as \"age\"\n",
    "FROM employees\n",
    "WHERE first_name LIKE 'M%';\n",
    "```\n",
    "___"
   ]
  },
  {
   "cell_type": "markdown",
   "metadata": {},
   "source": [
    "<span style=\"color:lightgreen\">Exercise 2:</span>\n",
    "\n",
    "DB: Employees\n",
    "\n",
    "Table: employees\n",
    "\n",
    "Question: How many people's name start with A and end with R?\n",
    "\n",
    "Expected output: 1846\n",
    "\n",
    "\\\n",
    "<span style=\"color:lightgreen\">ANSWER: </span>\n",
    "\n",
    "```sql\n",
    "SELECT count(emp_no)\n",
    "FROM employees\n",
    "WHERE first_name ILIKE 'A%R';\n",
    "```\n",
    "___"
   ]
  },
  {
   "cell_type": "markdown",
   "metadata": {},
   "source": [
    "<span style=\"color:lightgreen\">Exercise 3:</span>\n",
    "\n",
    "DB: Store\n",
    "\n",
    "Table: customers\n",
    "\n",
    "Question: How many people's zip-codes have a 2 in it?\n",
    "\n",
    "Expected output: 4211 \n",
    "\n",
    "\\\n",
    "<span style=\"color:lightgreen\">ANSWER: </span>\n",
    "\n",
    "```sql\n",
    "SELECT count(customerid)\n",
    "FROM customers\n",
    "WHERE zip::text LIKE '%2%';\n",
    "```\n",
    "___"
   ]
  },
  {
   "cell_type": "markdown",
   "metadata": {},
   "source": [
    "<span style=\"color:lightgreen\">Exercise 4:</span>\n",
    "\n",
    "DB: Store\n",
    "\n",
    "Table: customers\n",
    "\n",
    "Question: How many people's zip-code's start with 2 with the 3rd character being a 1.\n",
    "\n",
    "\n",
    "Expected output: 109 \n",
    "\n",
    "\\\n",
    "<span style=\"color:lightgreen\">ANSWER: </span>\n",
    "\n",
    "```sql\n",
    "SELECT count(customerid)\n",
    "FROM customers\n",
    "WHERE zip::text LIKE '2_1%';\n",
    "```\n",
    "___"
   ]
  },
  {
   "cell_type": "markdown",
   "metadata": {},
   "source": [
    "<span style=\"color:lightgreen\">Exercise 5:</span>\n",
    "\n",
    "DB: Store\n",
    "\n",
    "Table: customers\n",
    "\n",
    "Question: Which states have phone numbers starting with 302?\n",
    "\n",
    ">Note: Replace null values with \"No State\".\n",
    "\n",
    "[Expected output](https://imgur.com/AVe6G4c): \n",
    "\n",
    "<img src=\"https://i.imgur.com/AVe6G4c.png\" height=\"300\">\n",
    "\n",
    "\\\n",
    "<span style=\"color:lightgreen\">ANSWER: </span>\n",
    "\n",
    "```sql\n",
    "SELECT Coalesce(state, 'No State') AS State\n",
    "FROM customers\n",
    "Where phone::text LIKE '302%';\n",
    "```\n",
    "___"
   ]
  }
 ],
 "metadata": {
  "language_info": {
   "name": "python"
  }
 },
 "nbformat": 4,
 "nbformat_minor": 2
}
