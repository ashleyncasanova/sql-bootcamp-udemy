{
 "cells": [
  {
   "cell_type": "markdown",
   "metadata": {},
   "source": [
    "___\n",
    "### **<span style=\"color:red\">Null Coalescing</span>**\n",
    "___"
   ]
  },
  {
   "cell_type": "markdown",
   "metadata": {},
   "source": [
    "___\n",
    "#### **<span style=\"color:aqua\">HERE ARE SOME MORE EXAMPLES USING DB FIDDLE...<span>**\n",
    "___"
   ]
  },
  {
   "cell_type": "markdown",
   "metadata": {},
   "source": [
    "**<span style=\"color:aqua\">SCHEMA FROM DB FIDDLE (PostgreSQL v12)</span>**\n",
    "\n",
    "    CREATE TABLE \"Student\" (\n",
    "      id serial PRIMARY KEY,\n",
    "      name varchar(255),\n",
    "      lastName varchar(255),\n",
    "      age int\n",
    "    );\n",
    "    \n",
    "    INSERT INTO \"Student\" (name, lastName, age)\n",
    "    VALUES ('STUDENT 1', Null, Null);\n",
    "    \n",
    "    INSERT INTO \"Student\" (name, lastName, age)\n",
    "    VALUES ('STUDENT 2', Null, 25);\n",
    "    \n",
    "    INSERT INTO \"Student\" (name, lastName, age)\n",
    "    VALUES (Null, 'LAST NAME 3', 20);\n",
    "    \n",
    "    INSERT INTO \"Student\" (name, lastName, age)\n",
    "    VALUES (Null, Null, 34);\n",
    "    \n",
    "    INSERT INTO \"Student\" (name, lastName, age)\n",
    "    VALUES ('STUDENT 5', Null, 58);\n",
    "    \n",
    "\n",
    "> [View on DB Fiddle](https://www.db-fiddle.com/f/2h5f24hRseg8YDUP9btj3g/2)\n"
   ]
  },
  {
   "cell_type": "markdown",
   "metadata": {},
   "source": [
    "**Query #1**\n",
    "\n",
    "    SELECT * FROM \"Student\";\n",
    "\n",
    "| id  | name      | lastname    | age |\n",
    "| --- | --------- | ----------- | --- |\n",
    "| 1   | STUDENT 1 |             |     |\n",
    "| 2   | STUDENT 2 |             | 25  |\n",
    "| 3   |           | LAST NAME 3 | 20  |\n",
    "| 4   |           |             | 34  |\n",
    "| 5   | STUDENT 5 |             | 58  |"
   ]
  },
  {
   "cell_type": "markdown",
   "metadata": {},
   "source": [
    "**Query #2**\n",
    "\n",
    "    SELECT name, lastName FROM \"Student\";\n",
    "\n",
    "| name      | lastname    |\n",
    "| --------- | ----------- |\n",
    "| STUDENT 1 |             |\n",
    "| STUDENT 2 |             |\n",
    "|           | LAST NAME 3 |\n",
    "|           |             |\n",
    "| STUDENT 5 |             |"
   ]
  },
  {
   "cell_type": "markdown",
   "metadata": {},
   "source": [
    "**Query #3**\n",
    "\n",
    "    SELECT coalesce(name, 'no name available'), lastName FROM \"Student\";\n",
    "\n",
    "| coalesce          | lastname    |\n",
    "| ----------------- | ----------- |\n",
    "| STUDENT 1         |             |\n",
    "| STUDENT 2         |             |\n",
    "| no name available | LAST NAME 3 |\n",
    "| no name available |             |\n",
    "| STUDENT 5         |             |"
   ]
  },
  {
   "cell_type": "markdown",
   "metadata": {},
   "source": [
    "**Query #4**\n",
    "\n",
    "    SELECT sum(age) FROM \"Student\";\n",
    "\n",
    "| sum |\n",
    "| --- |\n",
    "| 137 |"
   ]
  },
  {
   "cell_type": "markdown",
   "metadata": {},
   "source": [
    "**Query #5**\n",
    "\n",
    "    SELECT age FROM \"Student\";\n",
    "\n",
    "| age |\n",
    "| --- |\n",
    "|     |\n",
    "| 25  |\n",
    "| 20  |\n",
    "| 34  |\n",
    "| 58  |"
   ]
  },
  {
   "cell_type": "markdown",
   "metadata": {},
   "source": [
    "**Query #6**\n",
    "\n",
    "    SELECT sum(coalesce(age, 20)) FROM \"Student\";\n",
    "\n",
    "| sum |\n",
    "| --- |\n",
    "| 157 |"
   ]
  },
  {
   "cell_type": "markdown",
   "metadata": {},
   "source": [
    "**Query #7**\n",
    "\n",
    "    SELECT sum(coalesce(age, 200)) FROM \"Student\";\n",
    "\n",
    "| sum |\n",
    "| --- |\n",
    "| 337 |"
   ]
  },
  {
   "cell_type": "markdown",
   "metadata": {},
   "source": [
    "___\n",
    "___\n",
    "#### <span style=\"color:lightgreen\">Exercise Null Value Coalescing</span>\n",
    "___\n",
    "___"
   ]
  },
  {
   "cell_type": "markdown",
   "metadata": {},
   "source": [
    "**<span style=\"color:lightgreen\">EXERCISE 1:</span>**\n",
    "\n",
    "DB: https://www.db-fiddle.com/f/PnGNcaPYfGoEDvfexzEUA/0\n",
    "\n",
    "Question: \n",
    "\n",
    "Assuming a students minimum age for the class is 15, what is the average age of a student?"
   ]
  },
  {
   "cell_type": "markdown",
   "metadata": {},
   "source": [
    "**Query #1**\n",
    "\n",
    "    SELECT avg(coalesce(age, 15)) FROM \"Student\";\n",
    "\n",
    "| avg                 |\n",
    "| ------------------- |\n",
    "| 30.4000000000000000 |\n",
    "\n",
    "___"
   ]
  },
  {
   "cell_type": "markdown",
   "metadata": {},
   "source": [
    "**<span style=\"color:lightgreen\">EXERCISE 2:</span>**\n",
    "\n",
    "DB: https://www.db-fiddle.com/f/PnGNcaPYfGoEDvfexzEUA/0\n",
    "\n",
    "Question: \n",
    "\n",
    "Replace all empty first or last names with a default?"
   ]
  },
  {
   "cell_type": "markdown",
   "metadata": {},
   "source": [
    "**Query #1**\n",
    "\n",
    "    SELECT coalesce(name, 'name'), coalesce(lastName, 'last name') FROM \"Student\";\n",
    "\n",
    "| coalesce  | coalesce    |\n",
    "| --------- | ----------- |\n",
    "| STUDENT 1 | last name   |\n",
    "| STUDENT 2 | last name   |\n",
    "| name      | LAST NAME 3 |\n",
    "| name      | last name   |\n",
    "| STUDENT 5 | last name   |\n",
    "\n",
    "\\\n",
    "**Query #2**\n",
    "\n",
    "    SELECT id, coalesce(name, 'fallback'), coalesce(lastName, 'lastName'), age FROM \"Student\";\n",
    "\n",
    "| id  | coalesce  | coalesce    | age |\n",
    "| --- | --------- | ----------- | --- |\n",
    "| 1   | STUDENT 1 | lastName    |     |\n",
    "| 2   | STUDENT 2 | lastName    | 25  |\n",
    "| 3   | fallback  | LAST NAME 3 | 20  |\n",
    "| 4   | fallback  | lastName    | 34  |\n",
    "| 5   | STUDENT 5 | lastName    | 58  |\n",
    "___"
   ]
  }
 ],
 "metadata": {
  "language_info": {
   "name": "python"
  }
 },
 "nbformat": 4,
 "nbformat_minor": 2
}
