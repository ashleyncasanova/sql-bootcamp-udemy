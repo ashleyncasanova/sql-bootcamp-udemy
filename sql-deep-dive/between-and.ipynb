{
 "cells": [
  {
   "cell_type": "markdown",
   "metadata": {},
   "source": [
    "___\n",
    "### **<span style=\"color:red\">BETWEEN AND</span>**\n",
    "\n",
    "* SHORTHAND TO MATCH AGAINST A RANGE OF VALUES (DATES, NUMBERS, ETC.)\n",
    "* MORE READABLE\n",
    "* MORE MAINTAINABLE \n",
    "* SENSITIVE TO THE ORDER OF THE ARGUMENTS\n",
    "\n",
    "\\\n",
    "**<span style=\"color:red\">THIS...</span>**\n",
    "\n",
    "```sql\n",
    "SELECT <column>\n",
    "FROM <table>\n",
    "WHERE <column> BETWEEN X AND Y\n",
    "```\n",
    "\n",
    "\\\n",
    "**<span style=\"color:red\">IS THE SAME AS...</span>**\n",
    "\n",
    "```sql\n",
    "SELECT <column>\n",
    "FROM <table>\n",
    "WHERE <column> >= X AND <column> <= Y\n",
    "```"
   ]
  },
  {
   "cell_type": "markdown",
   "metadata": {},
   "source": [
    "___\n",
    "___\n",
    "#### <span style=\"color:lightgreen\">Exercise BETWEEN AND</span>\n",
    "___\n",
    "___"
   ]
  },
  {
   "cell_type": "markdown",
   "metadata": {},
   "source": [
    "**<span style=\"color:lightgreen\">EXERCISE 1:</span>**\n",
    "\n",
    "DB: Store\n",
    "\n",
    "Table: customers\n",
    "\n",
    "Question: Who between the ages of 30 and 50 has an income less than 50 000? (include 30 and 50 in the results)\n",
    "\n",
    "```sql\n",
    "SELECT *\n",
    "FROM customers\n",
    "WHERE (age BETWEEN 30 AND 50) \n",
    "AND (income < 50000);\n",
    "```\n",
    "___"
   ]
  },
  {
   "cell_type": "markdown",
   "metadata": {},
   "source": [
    "**<span style=\"color:lightgreen\">EXERCISE 2:</span>**\n",
    "\n",
    "DB: Store\n",
    "\n",
    "Table: customers\n",
    "\n",
    "Question: What is the average income between the ages of 20 and 50? (Including 20 and 50)\n",
    "\n",
    "```sql\n",
    "SELECT avg(income)\n",
    "FROM customers\n",
    "WHERE age BETWEEN 20 AND 5O;\n",
    "```\n",
    "\n",
    "Returns: 59361.925908612832\n",
    "___"
   ]
  }
 ],
 "metadata": {
  "language_info": {
   "name": "python"
  }
 },
 "nbformat": 4,
 "nbformat_minor": 2
}
