{
 "cells": [
  {
   "cell_type": "markdown",
   "metadata": {},
   "source": [
    "___\n",
    "### **<span style=\"color:red\">IN KEYWORD</span>**\n",
    "\n",
    "* FILTER MULTIPLE VALUES\n",
    "* CHECK IF A VALUE MATCHES ANY VALUE IN A LIST OF VALUES\n",
    "\n",
    "\\\n",
    "<span style=\"color:red\">WHAT IF I WANT TO FIND MULTIPLE VALUES BUT NOT WRITE ENDLESS AND STATEMENTS?</span>\n",
    "\n",
    "```sql\n",
    "SELECT * \n",
    "FROM <table>\n",
    "WHERE <column> IN (value1, value2, ...)\n",
    "```\n",
    "___"
   ]
  },
  {
   "cell_type": "markdown",
   "metadata": {},
   "source": [
    "#### <span style=\"color:red\">Example:</span>\n",
    "\n",
    "DB: Employees\n",
    "\n",
    "\\\n",
    "Table: Employees\n",
    "\n",
    "\\\n",
    "<span style=\"color:red\">Query: Using `IN` keyword</span>\n",
    "\n",
    "```sql\n",
    "SELECT * FROM employees\n",
    "WHERE emp_no IN (100001, 100006, 11008);\n",
    "```\n",
    "\n",
    "\\\n",
    "<span style=\"color:red\">Query: Without using `IN` keyword</span>\n",
    "\n",
    "```sql\n",
    "SELECT * FROM employees\n",
    "WHERE emp_no = 100001 OR emp_no = 100006 OR emp_no = 11008;\n",
    "```\n",
    "\n",
    "\\\n",
    "Returns: (both querys return the same thing)\n",
    "\n",
    "|emp_no|birth_date|first_name|last_name|gender|hire_date|\n",
    "|:---:|:---:|:---:|:---:|:---:|:---:|\n",
    "|11008|1962-07-11|Gennady|Menhoudj|M|1988-09-18|\n",
    "|100001|1953-02-07|Jasminko|Antonakopoulos|M|1994-12-25|\n",
    "|100006|1956-07-13|Janalee|Himler|F|1986-01-15|"
   ]
  },
  {
   "cell_type": "markdown",
   "metadata": {},
   "source": [
    "___\n",
    "___\n",
    "#### <span style=\"color:lightgreen\">Exercise IN Keyword</span>\n",
    "___\n",
    "___"
   ]
  },
  {
   "cell_type": "markdown",
   "metadata": {},
   "source": [
    "<span style=\"color:lightgreen\">EXERCISE 1:</span>\n",
    "\n",
    "DB: Store\n",
    "\n",
    "Table: orders\n",
    "\n",
    "Question: How many orders were made by customer 7888, 1082, 12808, 9623\n",
    "\n",
    "```sql\n",
    "SELECT count(orderid)\n",
    "FROM orders\n",
    "WHERE customerid IN (7888, 1082, 12808, 9623);\n",
    "```\n",
    "\n",
    "Returns: 6\n",
    "___"
   ]
  },
  {
   "cell_type": "markdown",
   "metadata": {},
   "source": [
    "<span style=\"color:lightgreen\">EXERCISE 2:</span>\n",
    "\n",
    "DB: World\n",
    "\n",
    "Table: city\n",
    "\n",
    "Question: How many cities are in the district of Zuid-Holland, Noord-Brabant and Utrecht?\n",
    "\n",
    "```sql\n",
    "SELECT count(id)\n",
    "FROM city\n",
    "WHERE district IN ('Zuid-Holland', 'Noord-Brabant', 'Utrecht');\n",
    "```\n",
    "\n",
    "Returns: 12\n",
    "___"
   ]
  }
 ],
 "metadata": {
  "language_info": {
   "name": "python"
  }
 },
 "nbformat": 4,
 "nbformat_minor": 2
}
